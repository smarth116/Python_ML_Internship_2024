{
 "cells": [
  {
   "cell_type": "code",
   "execution_count": 4,
   "id": "197c3b67-e13b-4fe4-b39e-14a9e5bd6b32",
   "metadata": {},
   "outputs": [
    {
     "name": "stdout",
     "output_type": "stream",
     "text": [
      "4\n",
      "invalid index\n",
      "code excuted sucessfully\n",
      "end the code\n"
     ]
    }
   ],
   "source": [
    "list=[2,3,4]\n",
    "print(list[2])\n",
    "try:\n",
    "    print(list[3])\n",
    "except:\n",
    "    print(\"invalid index\")\n",
    "finally:\n",
    "    print(\"code excuted sucessfully\")\n",
    "print(\"end the code\")"
   ]
  },
  {
   "cell_type": "code",
   "execution_count": 5,
   "id": "05965b48-66b8-4bd7-9dcd-cefb581643ea",
   "metadata": {},
   "outputs": [
    {
     "name": "stdout",
     "output_type": "stream",
     "text": [
      "b can't be zero\n",
      "code excuted successfully\n"
     ]
    }
   ],
   "source": [
    "a=10\n",
    "b=0\n",
    "try:\n",
    "    print(a/b)\n",
    "except:\n",
    "    print(\"b can't be zero\")\n",
    "finally:\n",
    "    print(\"code excuted successfully\")"
   ]
  },
  {
   "cell_type": "code",
   "execution_count": 6,
   "id": "152f14e3-ee79-49d6-83d6-e88afbd260ae",
   "metadata": {},
   "outputs": [
    {
     "name": "stdout",
     "output_type": "stream",
     "text": [
      "2.0\n",
      "code excuted successfully\n"
     ]
    }
   ],
   "source": [
    "a=10\n",
    "b=5\n",
    "try:\n",
    "    print(a/b)\n",
    "except:\n",
    "    print(\"b can't be zero\")\n",
    "finally:\n",
    "    print(\"code excuted successfully\")"
   ]
  },
  {
   "cell_type": "code",
   "execution_count": null,
   "id": "90036cfb-d7c9-44f0-9ffb-5283f69b8890",
   "metadata": {},
   "outputs": [],
   "source": [
    "a"
   ]
  }
 ],
 "metadata": {
  "kernelspec": {
   "display_name": "Python 3 (ipykernel)",
   "language": "python",
   "name": "python3"
  },
  "language_info": {
   "codemirror_mode": {
    "name": "ipython",
    "version": 3
   },
   "file_extension": ".py",
   "mimetype": "text/x-python",
   "name": "python",
   "nbconvert_exporter": "python",
   "pygments_lexer": "ipython3",
   "version": "3.12.4"
  }
 },
 "nbformat": 4,
 "nbformat_minor": 5
}
