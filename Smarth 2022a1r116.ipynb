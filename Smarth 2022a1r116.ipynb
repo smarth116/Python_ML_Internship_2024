{
 "cells": [
  {
   "cell_type": "code",
   "execution_count": 1,
   "id": "13f22ebb-4081-4d76-a0c2-d92f444b8a6c",
   "metadata": {},
   "outputs": [
    {
     "name": "stdout",
     "output_type": "stream",
     "text": [
      "      \n",
      "     *\n",
      "    **\n",
      "   ***\n",
      "  ****\n",
      " *****\n"
     ]
    }
   ],
   "source": [
    "#write a code to print the following pattern?\n",
    "#    *\n",
    "#   **\n",
    "#  ***\n",
    "# ****\n",
    "#*****\n",
    "for i in range(0,6):\n",
    "    print(\" \"*(6-i)+\"*\"*i)"
   ]
  },
  {
   "cell_type": "code",
   "execution_count": 6,
   "id": "6aa5dba6-b24d-40e9-a23d-b304b39c1d06",
   "metadata": {},
   "outputs": [
    {
     "name": "stdout",
     "output_type": "stream",
     "text": [
      "                  \n",
      "                * \n",
      "             *  * \n",
      "          *  *  * \n",
      "       *  *  *  * \n",
      "    *  *  *  *  * \n"
     ]
    }
   ],
   "source": [
    "#write a code to print the following pattern?\n",
    "#    *\n",
    "#   **\n",
    "#  ***\n",
    "# ****\n",
    "#*****\n",
    "for i in range(0,6):\n",
    "    print(\"   \"*(6-i)+\" * \"*i)\n",
    "    "
   ]
  },
  {
   "cell_type": "markdown",
   "id": "4c1b77cb-e895-4d64-a41c-e669461fb7d3",
   "metadata": {},
   "source": [
    "create a program that prompts  the user to input two numbers and perform division . handle the arithmetic EXCEPTION that might occurs attempts to divide by zero and any potential numberformatexception that might occcurs during the conversion in such cases,inform the user about the error and ask for input again?"
   ]
  },
  {
   "cell_type": "code",
   "execution_count": null,
   "id": "0ad36d9b-704d-402c-83ab-ff076c030ece",
   "metadata": {},
   "outputs": [],
   "source": [
    "a=(input(\"enter the first number\"))\n",
    "b=(input(\"enter the second number\"))\n",
    "try:\n",
    "    print(a/b)\n",
    "except:\n",
    " a=int(input(\"reenter the value of first number there is an error. Value of a must be a natural no only else show error  \"))\n",
    " b=int(input(\"reenter the value of secound number there is an error. Value of b must be a natural no only else show error  \"))\n",
    "finally:\n",
    "    print(a/b)"
   ]
  },
  {
   "cell_type": "code",
   "execution_count": 4,
   "id": "9b76ae55-deb0-434a-9ddf-0a68e2911d9d",
   "metadata": {},
   "outputs": [
    {
     "name": "stdin",
     "output_type": "stream",
     "text": [
      "Enter the first number:  a\n"
     ]
    },
    {
     "ename": "NameError",
     "evalue": "name 'Print' is not defined",
     "output_type": "error",
     "traceback": [
      "\u001b[1;31m---------------------------------------------------------------------------\u001b[0m",
      "\u001b[1;31mValueError\u001b[0m                                Traceback (most recent call last)",
      "Cell \u001b[1;32mIn[4], line 4\u001b[0m, in \u001b[0;36mperform_division\u001b[1;34m()\u001b[0m\n\u001b[0;32m      3\u001b[0m \u001b[38;5;28;01mtry\u001b[39;00m:\n\u001b[1;32m----> 4\u001b[0m     num1 \u001b[38;5;241m=\u001b[39m \u001b[38;5;28;43mfloat\u001b[39;49m\u001b[43m(\u001b[49m\u001b[38;5;28;43minput\u001b[39;49m\u001b[43m(\u001b[49m\u001b[38;5;124;43m\"\u001b[39;49m\u001b[38;5;124;43mEnter the first number: \u001b[39;49m\u001b[38;5;124;43m\"\u001b[39;49m\u001b[43m)\u001b[49m\u001b[43m)\u001b[49m\n\u001b[0;32m      5\u001b[0m     num2 \u001b[38;5;241m=\u001b[39m \u001b[38;5;28mfloat\u001b[39m(\u001b[38;5;28minput\u001b[39m(\u001b[38;5;124m\"\u001b[39m\u001b[38;5;124mEnter the second number: \u001b[39m\u001b[38;5;124m\"\u001b[39m))\n",
      "\u001b[1;31mValueError\u001b[0m: could not convert string to float: 'a'",
      "\nDuring handling of the above exception, another exception occurred:\n",
      "\u001b[1;31mNameError\u001b[0m                                 Traceback (most recent call last)",
      "Cell \u001b[1;32mIn[4], line 15\u001b[0m\n\u001b[0;32m     12\u001b[0m                 Print(\u001b[38;5;124m\"\u001b[39m\u001b[38;5;124mError: Invalid Input\u001b[39m\u001b[38;5;124m\"\u001b[39m)\n\u001b[0;32m     14\u001b[0m \u001b[38;5;28;01mif\u001b[39;00m \u001b[38;5;18m__name__\u001b[39m\u001b[38;5;241m==\u001b[39m\u001b[38;5;124m\"\u001b[39m\u001b[38;5;124m__main__\u001b[39m\u001b[38;5;124m\"\u001b[39m:\n\u001b[1;32m---> 15\u001b[0m             \u001b[43mperform_division\u001b[49m\u001b[43m(\u001b[49m\u001b[43m)\u001b[49m\n",
      "Cell \u001b[1;32mIn[4], line 12\u001b[0m, in \u001b[0;36mperform_division\u001b[1;34m()\u001b[0m\n\u001b[0;32m     10\u001b[0m     \u001b[38;5;28mprint\u001b[39m(\u001b[38;5;124m\"\u001b[39m\u001b[38;5;124mError: Division by zero is not allowed. Please try again.\u001b[39m\u001b[38;5;124m\"\u001b[39m)\n\u001b[0;32m     11\u001b[0m \u001b[38;5;28;01mexcept\u001b[39;00m \u001b[38;5;167;01mValueError\u001b[39;00m:\n\u001b[1;32m---> 12\u001b[0m         \u001b[43mPrint\u001b[49m(\u001b[38;5;124m\"\u001b[39m\u001b[38;5;124mError: Invalid Input\u001b[39m\u001b[38;5;124m\"\u001b[39m)\n",
      "\u001b[1;31mNameError\u001b[0m: name 'Print' is not defined"
     ]
    }
   ],
   "source": [
    "def perform_division():\n",
    "    while True:\n",
    "        try:\n",
    "            num1 = float(input(\"Enter the first number: \"))\n",
    "            num2 = float(input(\"Enter the second number: \"))\n",
    "            result = num1/num2\n",
    "            print(f\"The result of (num1) divided by (num2) is {result:2f}\")\n",
    "            break\n",
    "        except ZeroDivisionError:\n",
    "            print(\"Error: Division by zero is not allowed. Please try again.\")\n",
    "        except ValueError:\n",
    "                Print(\"Error: Invalid Input\")\n",
    "               \n",
    "if __name__==\"__main__\":\n",
    "            perform_division()"
   ]
  },
  {
   "cell_type": "code",
   "execution_count": 1,
   "id": "9c89b0dc-769d-4977-8fc5-581d9e8eb36b",
   "metadata": {},
   "outputs": [],
   "source": [
    "# Create a class Equipment that stores\n",
    "\n",
    "\n",
    "class Equipment:\n",
    "    def __init__(self):\n",
    "        self.stock = {\n",
    "            'Eid': [],\n",
    "            'Ename': [],\n",
    "            'Brand': [],\n",
    "            'Total_qty': [],\n",
    "            'Avail_qty': []\n",
    "        }\n",
    "        \n",
    "           "
   ]
  },
  {
   "cell_type": "code",
   "execution_count": null,
   "id": "878878a9-7dfc-43fc-9929-3d5e26b58183",
   "metadata": {},
   "outputs": [],
   "source": []
  }
 ],
 "metadata": {
  "kernelspec": {
   "display_name": "Python 3 (ipykernel)",
   "language": "python",
   "name": "python3"
  },
  "language_info": {
   "codemirror_mode": {
    "name": "ipython",
    "version": 3
   },
   "file_extension": ".py",
   "mimetype": "text/x-python",
   "name": "python",
   "nbconvert_exporter": "python",
   "pygments_lexer": "ipython3",
   "version": "3.12.4"
  }
 },
 "nbformat": 4,
 "nbformat_minor": 5
}
