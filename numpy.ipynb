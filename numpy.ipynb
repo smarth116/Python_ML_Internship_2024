{
 "cells": [
  {
   "cell_type": "code",
   "execution_count": 6,
   "id": "f6eb6480-435e-4ec2-a380-dff01af597d6",
   "metadata": {},
   "outputs": [],
   "source": [
    "import numpy as np"
   ]
  },
  {
   "cell_type": "code",
   "execution_count": 7,
   "id": "5b61203f-0679-4106-8f26-c292aa7fcd47",
   "metadata": {},
   "outputs": [
    {
     "data": {
      "text/plain": [
       "array([1, 2, 3, 4, 5])"
      ]
     },
     "execution_count": 7,
     "metadata": {},
     "output_type": "execute_result"
    }
   ],
   "source": [
    "arr = np.array([1, 2, 3, 4, 5])\n",
    "arr\n"
   ]
  },
  {
   "cell_type": "code",
   "execution_count": 8,
   "id": "708b00f7-7c81-4920-a00d-090e59b8bce8",
   "metadata": {},
   "outputs": [
    {
     "data": {
      "text/plain": [
       "array([0, 1, 2, 3, 4, 5, 6, 7, 8, 9])"
      ]
     },
     "execution_count": 8,
     "metadata": {},
     "output_type": "execute_result"
    }
   ],
   "source": [
    "arr=np.arange(0,10,1)#arr with in a range\n",
    "arr"
   ]
  },
  {
   "cell_type": "code",
   "execution_count": 9,
   "id": "fc0338f3-ce6b-4172-9149-c1043d2c6b95",
   "metadata": {},
   "outputs": [
    {
     "data": {
      "text/plain": [
       "array([  0.        ,  11.11111111,  22.22222222,  33.33333333,\n",
       "        44.44444444,  55.55555556,  66.66666667,  77.77777778,\n",
       "        88.88888889, 100.        ])"
      ]
     },
     "execution_count": 9,
     "metadata": {},
     "output_type": "execute_result"
    }
   ],
   "source": [
    "ln=np.linspace(0,100,10)\n",
    "ln"
   ]
  },
  {
   "cell_type": "code",
   "execution_count": 10,
   "id": "095ed533-b3ee-4b63-9d52-32335a7c1549",
   "metadata": {},
   "outputs": [],
   "source": [
    "ran=np.random.rand(4)#for a random variable"
   ]
  },
  {
   "cell_type": "code",
   "execution_count": 11,
   "id": "6782326b-8728-4f05-bd33-c041cdb5ba21",
   "metadata": {},
   "outputs": [
    {
     "data": {
      "text/plain": [
       "array([0.02020432, 0.83878715, 0.39112742, 0.49939318])"
      ]
     },
     "execution_count": 11,
     "metadata": {},
     "output_type": "execute_result"
    }
   ],
   "source": [
    "ran"
   ]
  },
  {
   "cell_type": "code",
   "execution_count": 12,
   "id": "527b09bb-b799-4e68-8ec8-89fae235054f",
   "metadata": {},
   "outputs": [],
   "source": [
    "z=np.zeros(5)#for all zeroes "
   ]
  },
  {
   "cell_type": "code",
   "execution_count": 13,
   "id": "cd36ea68-05b3-4d86-8a9d-f4c58b03f31e",
   "metadata": {},
   "outputs": [
    {
     "data": {
      "text/plain": [
       "array([0., 0., 0., 0., 0.])"
      ]
     },
     "execution_count": 13,
     "metadata": {},
     "output_type": "execute_result"
    }
   ],
   "source": [
    "z"
   ]
  },
  {
   "cell_type": "code",
   "execution_count": 14,
   "id": "4b6539f2-78a1-4cbe-abf3-071fba8d90fc",
   "metadata": {},
   "outputs": [],
   "source": [
    "ar2=np.array([[1,2,3],[4,5,6],[7,8,9]])"
   ]
  },
  {
   "cell_type": "code",
   "execution_count": 15,
   "id": "ac1a7f9d-9e9c-4acf-b20a-4d2786000983",
   "metadata": {},
   "outputs": [
    {
     "data": {
      "text/plain": [
       "array([[1, 2, 3],\n",
       "       [4, 5, 6],\n",
       "       [7, 8, 9]])"
      ]
     },
     "execution_count": 15,
     "metadata": {},
     "output_type": "execute_result"
    }
   ],
   "source": [
    "ar2"
   ]
  },
  {
   "cell_type": "code",
   "execution_count": 16,
   "id": "cde74aa3-72f4-4ef1-9418-dffca2694773",
   "metadata": {},
   "outputs": [],
   "source": [
    "z1=np.zeros((5,5))"
   ]
  },
  {
   "cell_type": "code",
   "execution_count": 17,
   "id": "0e425cca-933f-4450-8c3d-277be344433d",
   "metadata": {},
   "outputs": [
    {
     "data": {
      "text/plain": [
       "array([[0., 0., 0., 0., 0.],\n",
       "       [0., 0., 0., 0., 0.],\n",
       "       [0., 0., 0., 0., 0.],\n",
       "       [0., 0., 0., 0., 0.],\n",
       "       [0., 0., 0., 0., 0.]])"
      ]
     },
     "execution_count": 17,
     "metadata": {},
     "output_type": "execute_result"
    }
   ],
   "source": [
    "z1"
   ]
  },
  {
   "cell_type": "code",
   "execution_count": 18,
   "id": "bc57f7a0-9175-4555-b752-33095118731e",
   "metadata": {},
   "outputs": [],
   "source": [
    "z2=np.ones((5,5),dtype=np.int32)"
   ]
  },
  {
   "cell_type": "code",
   "execution_count": 19,
   "id": "21a61a6d-22f0-47bc-a925-27145969a62e",
   "metadata": {},
   "outputs": [
    {
     "data": {
      "text/plain": [
       "array([[1, 1, 1, 1, 1],\n",
       "       [1, 1, 1, 1, 1],\n",
       "       [1, 1, 1, 1, 1],\n",
       "       [1, 1, 1, 1, 1],\n",
       "       [1, 1, 1, 1, 1]], dtype=int32)"
      ]
     },
     "execution_count": 19,
     "metadata": {},
     "output_type": "execute_result"
    }
   ],
   "source": [
    "z2"
   ]
  },
  {
   "cell_type": "code",
   "execution_count": 20,
   "id": "db8148c5-0328-43d6-aa7e-f663f00e961e",
   "metadata": {},
   "outputs": [],
   "source": [
    "I=np.eye(5)"
   ]
  },
  {
   "cell_type": "code",
   "execution_count": 21,
   "id": "0786f31b-7678-4e9a-8378-293752c670b9",
   "metadata": {},
   "outputs": [
    {
     "data": {
      "text/plain": [
       "array([[1., 0., 0., 0., 0.],\n",
       "       [0., 1., 0., 0., 0.],\n",
       "       [0., 0., 1., 0., 0.],\n",
       "       [0., 0., 0., 1., 0.],\n",
       "       [0., 0., 0., 0., 1.]])"
      ]
     },
     "execution_count": 21,
     "metadata": {},
     "output_type": "execute_result"
    }
   ],
   "source": [
    "I"
   ]
  },
  {
   "cell_type": "code",
   "execution_count": 22,
   "id": "4973039d-b47b-4604-892c-ede72ea3c561",
   "metadata": {},
   "outputs": [],
   "source": [
    "R1=np.random.rand(4,5)"
   ]
  },
  {
   "cell_type": "code",
   "execution_count": 23,
   "id": "00fe49c9-cf24-4bdd-9566-c20f25616176",
   "metadata": {},
   "outputs": [
    {
     "data": {
      "text/plain": [
       "array([[0.36377569, 0.35033471, 0.55838798, 0.52956606, 0.40324419],\n",
       "       [0.4531093 , 0.83758653, 0.99888052, 0.07034876, 0.8983152 ],\n",
       "       [0.20567456, 0.19276821, 0.68634872, 0.46674309, 0.60944954],\n",
       "       [0.97845522, 0.70630418, 0.70047693, 0.4880687 , 0.73288212]])"
      ]
     },
     "execution_count": 23,
     "metadata": {},
     "output_type": "execute_result"
    }
   ],
   "source": [
    "R1"
   ]
  },
  {
   "cell_type": "code",
   "execution_count": 24,
   "id": "0a8bbc86-e8d7-449e-9ba8-dd24d95a5871",
   "metadata": {},
   "outputs": [
    {
     "data": {
      "text/plain": [
       "array([0, 1, 2, 3, 4, 5, 6, 7, 8, 9])"
      ]
     },
     "execution_count": 24,
     "metadata": {},
     "output_type": "execute_result"
    }
   ],
   "source": [
    "arr"
   ]
  },
  {
   "cell_type": "code",
   "execution_count": 25,
   "id": "a871fef5-376f-4124-beea-4efd71a85bd0",
   "metadata": {},
   "outputs": [
    {
     "data": {
      "text/plain": [
       "array([[1, 2, 3],\n",
       "       [4, 5, 6],\n",
       "       [7, 8, 9]])"
      ]
     },
     "execution_count": 25,
     "metadata": {},
     "output_type": "execute_result"
    }
   ],
   "source": [
    "ar2"
   ]
  },
  {
   "cell_type": "code",
   "execution_count": 26,
   "id": "408dfd71-ad9f-40bd-bfc0-2a063bdba6d2",
   "metadata": {},
   "outputs": [
    {
     "name": "stdout",
     "output_type": "stream",
     "text": [
      "10\n"
     ]
    }
   ],
   "source": [
    "print(arr.size)"
   ]
  },
  {
   "cell_type": "code",
   "execution_count": 27,
   "id": "1f74a39d-1ded-42c2-adcd-968442f7b687",
   "metadata": {},
   "outputs": [
    {
     "name": "stdout",
     "output_type": "stream",
     "text": [
      "9\n"
     ]
    }
   ],
   "source": [
    "print(ar2.size)"
   ]
  },
  {
   "cell_type": "code",
   "execution_count": 28,
   "id": "e01bc308-714c-4214-a450-22d46d196f1a",
   "metadata": {},
   "outputs": [
    {
     "name": "stdout",
     "output_type": "stream",
     "text": [
      "(10,)\n"
     ]
    }
   ],
   "source": [
    "print(arr.shape)"
   ]
  },
  {
   "cell_type": "code",
   "execution_count": 29,
   "id": "368305f2-63f6-4689-8d48-2b992a023e65",
   "metadata": {},
   "outputs": [
    {
     "name": "stdout",
     "output_type": "stream",
     "text": [
      "(3, 3)\n"
     ]
    }
   ],
   "source": [
    "print(ar2.shape)"
   ]
  },
  {
   "cell_type": "markdown",
   "id": "8572fa2b-57d0-4b0b-b85a-d3cf0143858d",
   "metadata": {},
   "source": [
    "# Operations in array"
   ]
  },
  {
   "cell_type": "markdown",
   "id": "43c40701-1670-45a4-bc80-244af739447a",
   "metadata": {},
   "source": [
    "copy"
   ]
  },
  {
   "cell_type": "markdown",
   "id": "b49bc7b2-9d42-41ad-9562-3e931a61ef92",
   "metadata": {},
   "source": [
    "sort"
   ]
  },
  {
   "cell_type": "markdown",
   "id": "a816c7e0-9753-4350-9488-d637fe4369e2",
   "metadata": {},
   "source": [
    "reshape"
   ]
  },
  {
   "cell_type": "code",
   "execution_count": 30,
   "id": "560369ec-00bb-45b8-b96c-5130102b5962",
   "metadata": {},
   "outputs": [],
   "source": [
    "ar3=np.copy(ar2)"
   ]
  },
  {
   "cell_type": "code",
   "execution_count": 31,
   "id": "e234a235-a0fe-40be-9eb5-17eab68e4622",
   "metadata": {},
   "outputs": [
    {
     "data": {
      "text/plain": [
       "array([[1, 2, 3],\n",
       "       [4, 5, 6],\n",
       "       [7, 8, 9]])"
      ]
     },
     "execution_count": 31,
     "metadata": {},
     "output_type": "execute_result"
    }
   ],
   "source": [
    "ar3"
   ]
  },
  {
   "cell_type": "code",
   "execution_count": 32,
   "id": "b70c2370-4801-418d-a065-1d732e6ee9b6",
   "metadata": {},
   "outputs": [],
   "source": [
    "ar3[2,2]=10"
   ]
  },
  {
   "cell_type": "code",
   "execution_count": 33,
   "id": "2497a494-5b02-479e-a80a-8e260658ea53",
   "metadata": {},
   "outputs": [
    {
     "data": {
      "text/plain": [
       "array([[ 1,  2,  3],\n",
       "       [ 4,  5,  6],\n",
       "       [ 7,  8, 10]])"
      ]
     },
     "execution_count": 33,
     "metadata": {},
     "output_type": "execute_result"
    }
   ],
   "source": [
    "ar3\n"
   ]
  },
  {
   "cell_type": "code",
   "execution_count": 34,
   "id": "5c9065c8-86ad-4907-ba9c-3c382b0ebc88",
   "metadata": {},
   "outputs": [],
   "source": [
    "ar3[1,2]=12"
   ]
  },
  {
   "cell_type": "code",
   "execution_count": 35,
   "id": "8ea35b2a-cdd1-4984-8e9e-32cefeca6af0",
   "metadata": {},
   "outputs": [],
   "source": [
    "ar3[1,0]=10"
   ]
  },
  {
   "cell_type": "code",
   "execution_count": null,
   "id": "7e6accca-a02e-4f73-8830-8ed75d5f387c",
   "metadata": {},
   "outputs": [],
   "source": []
  },
  {
   "cell_type": "code",
   "execution_count": 36,
   "id": "4a21f143-139b-4a60-a9ea-2d97922e98d1",
   "metadata": {},
   "outputs": [
    {
     "data": {
      "text/plain": [
       "np.int64(58)"
      ]
     },
     "execution_count": 36,
     "metadata": {},
     "output_type": "execute_result"
    }
   ],
   "source": [
    "ar3.sum()"
   ]
  },
  {
   "cell_type": "code",
   "execution_count": 37,
   "id": "7d785e4c-f057-4f63-a7a0-17b42032e88f",
   "metadata": {},
   "outputs": [],
   "source": [
    "ar3=np.sort(ar3,axis=0)"
   ]
  },
  {
   "cell_type": "code",
   "execution_count": 38,
   "id": "55ed6d6a-e09b-43bb-8703-2c87a0bdb996",
   "metadata": {},
   "outputs": [
    {
     "data": {
      "text/plain": [
       "array([[ 1,  2,  3],\n",
       "       [ 7,  5, 10],\n",
       "       [10,  8, 12]])"
      ]
     },
     "execution_count": 38,
     "metadata": {},
     "output_type": "execute_result"
    }
   ],
   "source": [
    "ar3"
   ]
  },
  {
   "cell_type": "code",
   "execution_count": 39,
   "id": "f0bd11bc-73d4-47f8-8f4a-a17b79714b4a",
   "metadata": {},
   "outputs": [],
   "source": [
    "ar3=np.sort(ar3,axis=1)"
   ]
  },
  {
   "cell_type": "code",
   "execution_count": 40,
   "id": "81bc095f-e191-4497-a52b-7675af74c4ae",
   "metadata": {},
   "outputs": [
    {
     "data": {
      "text/plain": [
       "array([[ 1,  2,  3],\n",
       "       [ 5,  7, 10],\n",
       "       [ 8, 10, 12]])"
      ]
     },
     "execution_count": 40,
     "metadata": {},
     "output_type": "execute_result"
    }
   ],
   "source": [
    "ar3"
   ]
  },
  {
   "cell_type": "code",
   "execution_count": 46,
   "id": "5c36c857-c876-40b6-913e-ba2ccaaa7a1f",
   "metadata": {},
   "outputs": [
    {
     "data": {
      "text/plain": [
       "array([[ 1,  2,  3],\n",
       "       [ 5,  7, 10],\n",
       "       [ 8, 10, 12],\n",
       "       [ 1,  2,  3],\n",
       "       [ 5,  7, 10],\n",
       "       [ 8, 10, 12]])"
      ]
     },
     "execution_count": 46,
     "metadata": {},
     "output_type": "execute_result"
    }
   ],
   "source": [
    "ar4=np.concatenate((ar3,ar3),axis=0)\n",
    "ar4"
   ]
  },
  {
   "cell_type": "code",
   "execution_count": 47,
   "id": "bb155101-f84c-4e3b-8e36-887ed3c51c0b",
   "metadata": {},
   "outputs": [
    {
     "data": {
      "text/plain": [
       "array([[ 1,  2,  3,  1,  2,  3],\n",
       "       [ 5,  7, 10,  5,  7, 10],\n",
       "       [ 8, 10, 12,  8, 10, 12]])"
      ]
     },
     "execution_count": 47,
     "metadata": {},
     "output_type": "execute_result"
    }
   ],
   "source": [
    "ar4=np.concatenate((ar3,ar3),axis=1)\n",
    "ar4"
   ]
  },
  {
   "cell_type": "code",
   "execution_count": 52,
   "id": "246625b5-fb90-404f-b527-9c1771b9c568",
   "metadata": {},
   "outputs": [
    {
     "data": {
      "text/plain": [
       "[array([[ 1,  2,  3],\n",
       "        [ 5,  7, 10],\n",
       "        [ 8, 10, 12]]),\n",
       " array([[ 1,  2,  3],\n",
       "        [ 5,  7, 10],\n",
       "        [ 8, 10, 12]])]"
      ]
     },
     "execution_count": 52,
     "metadata": {},
     "output_type": "execute_result"
    }
   ],
   "source": [
    "np.split (ar4,2,axis=1)"
   ]
  },
  {
   "cell_type": "code",
   "execution_count": 53,
   "id": "79be891b-4b44-44ce-8b1b-50c104ebb6a4",
   "metadata": {},
   "outputs": [],
   "source": [
    "ar6=np.split(ar4,3)"
   ]
  },
  {
   "cell_type": "code",
   "execution_count": 54,
   "id": "dfb2c5e2-c9c8-40c6-b75c-82f19eb0dff6",
   "metadata": {},
   "outputs": [
    {
     "data": {
      "text/plain": [
       "[array([[1, 2, 3, 1, 2, 3]]),\n",
       " array([[ 5,  7, 10,  5,  7, 10]]),\n",
       " array([[ 8, 10, 12,  8, 10, 12]])]"
      ]
     },
     "execution_count": 54,
     "metadata": {},
     "output_type": "execute_result"
    }
   ],
   "source": [
    "ar6"
   ]
  },
  {
   "cell_type": "code",
   "execution_count": 55,
   "id": "a585073e-0e6a-47c9-bc3d-b90e980af800",
   "metadata": {},
   "outputs": [
    {
     "data": {
      "text/plain": [
       "array([[1, 2, 3, 1, 2, 3]])"
      ]
     },
     "execution_count": 55,
     "metadata": {},
     "output_type": "execute_result"
    }
   ],
   "source": [
    "ar6[0]"
   ]
  },
  {
   "cell_type": "code",
   "execution_count": 58,
   "id": "ac1360aa-5877-4017-a068-15a1ac407a92",
   "metadata": {},
   "outputs": [
    {
     "data": {
      "text/plain": [
       "array([[ 8, 10, 12,  8, 10, 12]])"
      ]
     },
     "execution_count": 58,
     "metadata": {},
     "output_type": "execute_result"
    }
   ],
   "source": [
    "ar6[2]"
   ]
  },
  {
   "cell_type": "markdown",
   "id": "bfdd2ac6-9653-46fc-9bd5-3530307d2707",
   "metadata": {},
   "source": [
    "# scalar addition"
   ]
  },
  {
   "cell_type": "markdown",
   "id": "2f31115b-5cc6-41be-8621-87535cbf9ba3",
   "metadata": {},
   "source": [
    "add, subtract,multiply,divide,power"
   ]
  },
  {
   "cell_type": "code",
   "execution_count": 60,
   "id": "c193b61d-17ab-41d7-b3c4-77c353fc9369",
   "metadata": {},
   "outputs": [
    {
     "data": {
      "text/plain": [
       "[array([[1, 2, 3, 1, 2, 3]]),\n",
       " array([[ 5,  7, 10,  5,  7, 10]]),\n",
       " array([[ 8, 10, 12,  8, 10, 12]])]"
      ]
     },
     "execution_count": 60,
     "metadata": {},
     "output_type": "execute_result"
    }
   ],
   "source": [
    "ar6"
   ]
  },
  {
   "cell_type": "code",
   "execution_count": 61,
   "id": "e1f63d46-75e3-460c-9995-a4846ca97f54",
   "metadata": {},
   "outputs": [
    {
     "data": {
      "text/plain": [
       "array([[[ 2,  3,  4,  2,  3,  4]],\n",
       "\n",
       "       [[ 6,  8, 11,  6,  8, 11]],\n",
       "\n",
       "       [[ 9, 11, 13,  9, 11, 13]]])"
      ]
     },
     "execution_count": 61,
     "metadata": {},
     "output_type": "execute_result"
    }
   ],
   "source": [
    "np.add(ar6,1)"
   ]
  },
  {
   "cell_type": "code",
   "execution_count": 63,
   "id": "0018dc11-108d-45dc-b493-0978ddaeaed6",
   "metadata": {},
   "outputs": [
    {
     "data": {
      "text/plain": [
       "array([[[ 0,  1,  2,  0,  1,  2]],\n",
       "\n",
       "       [[ 4,  6,  9,  4,  6,  9]],\n",
       "\n",
       "       [[ 7,  9, 11,  7,  9, 11]]])"
      ]
     },
     "execution_count": 63,
     "metadata": {},
     "output_type": "execute_result"
    }
   ],
   "source": [
    "np.subtract(ar6,1)\n",
    "\n"
   ]
  },
  {
   "cell_type": "code",
   "execution_count": 64,
   "id": "a07016f3-6bc6-4f65-8e50-324195630e35",
   "metadata": {},
   "outputs": [
    {
     "data": {
      "text/plain": [
       "array([[[ 3,  6,  9,  3,  6,  9]],\n",
       "\n",
       "       [[15, 21, 30, 15, 21, 30]],\n",
       "\n",
       "       [[24, 30, 36, 24, 30, 36]]])"
      ]
     },
     "execution_count": 64,
     "metadata": {},
     "output_type": "execute_result"
    }
   ],
   "source": [
    "np.multiply(ar6,3)"
   ]
  },
  {
   "cell_type": "code",
   "execution_count": 70,
   "id": "6d2b2317-2a28-40ef-96d1-890392d87afd",
   "metadata": {},
   "outputs": [],
   "source": [
    "ar7= np.divide(ar6,2)"
   ]
  },
  {
   "cell_type": "code",
   "execution_count": 71,
   "id": "dc39090a-cecf-4797-ae8e-397c6574f97d",
   "metadata": {},
   "outputs": [
    {
     "data": {
      "text/plain": [
       "array([[[0.5, 1. , 1.5, 0.5, 1. , 1.5]],\n",
       "\n",
       "       [[2.5, 3.5, 5. , 2.5, 3.5, 5. ]],\n",
       "\n",
       "       [[4. , 5. , 6. , 4. , 5. , 6. ]]])"
      ]
     },
     "execution_count": 71,
     "metadata": {},
     "output_type": "execute_result"
    }
   ],
   "source": [
    "ar7"
   ]
  },
  {
   "cell_type": "code",
   "execution_count": 72,
   "id": "f9f9b2d1-351d-4c55-a847-b55fdaf2a9fb",
   "metadata": {},
   "outputs": [
    {
     "data": {
      "text/plain": [
       "array([[[0., 1., 1., 0., 1., 1.]],\n",
       "\n",
       "       [[2., 3., 5., 2., 3., 5.]],\n",
       "\n",
       "       [[4., 5., 6., 4., 5., 6.]]])"
      ]
     },
     "execution_count": 72,
     "metadata": {},
     "output_type": "execute_result"
    }
   ],
   "source": [
    "np.floor(ar7)"
   ]
  },
  {
   "cell_type": "code",
   "execution_count": 73,
   "id": "596ef488-4a97-464d-82c6-7bd8be748dc5",
   "metadata": {},
   "outputs": [
    {
     "data": {
      "text/plain": [
       "array([[[0., 1., 2., 0., 1., 2.]],\n",
       "\n",
       "       [[2., 4., 5., 2., 4., 5.]],\n",
       "\n",
       "       [[4., 5., 6., 4., 5., 6.]]])"
      ]
     },
     "execution_count": 73,
     "metadata": {},
     "output_type": "execute_result"
    }
   ],
   "source": [
    "np.round(ar7)"
   ]
  },
  {
   "cell_type": "markdown",
   "id": "c0390617-15a7-4186-ac19-8ce91be274e6",
   "metadata": {},
   "source": [
    "# STATISTICS"
   ]
  },
  {
   "cell_type": "code",
   "execution_count": 74,
   "id": "40078da0-1965-4284-bd07-177ee31dc63c",
   "metadata": {},
   "outputs": [
    {
     "data": {
      "text/plain": [
       "np.float64(6.444444444444445)"
      ]
     },
     "execution_count": 74,
     "metadata": {},
     "output_type": "execute_result"
    }
   ],
   "source": [
    "np.mean(ar4)"
   ]
  },
  {
   "cell_type": "code",
   "execution_count": 75,
   "id": "5398136c-ff8c-4c13-9f7f-c3760245becd",
   "metadata": {},
   "outputs": [
    {
     "data": {
      "text/plain": [
       "np.float64(7.0)"
      ]
     },
     "execution_count": 75,
     "metadata": {},
     "output_type": "execute_result"
    }
   ],
   "source": [
    "np.median(ar4)\n"
   ]
  },
  {
   "cell_type": "code",
   "execution_count": 77,
   "id": "75dad93f-90f7-4842-902b-dd983490d3ff",
   "metadata": {},
   "outputs": [
    {
     "data": {
      "text/plain": [
       "array([ 2.        ,  7.33333333, 10.        ])"
      ]
     },
     "execution_count": 77,
     "metadata": {},
     "output_type": "execute_result"
    }
   ],
   "source": [
    "np.mean(ar4,axis=1)"
   ]
  },
  {
   "cell_type": "code",
   "execution_count": 78,
   "id": "41e5d7ed-7ed3-4c32-a32e-e43c3c792bdf",
   "metadata": {},
   "outputs": [
    {
     "data": {
      "text/plain": [
       "array([ 2.,  7., 10.])"
      ]
     },
     "execution_count": 78,
     "metadata": {},
     "output_type": "execute_result"
    }
   ],
   "source": [
    "np.median(ar4,axis=1)"
   ]
  },
  {
   "cell_type": "code",
   "execution_count": 79,
   "id": "6192ccf7-0c30-4771-957c-f95fb8d102ab",
   "metadata": {},
   "outputs": [
    {
     "data": {
      "text/plain": [
       "array([ 3, 10, 12])"
      ]
     },
     "execution_count": 79,
     "metadata": {},
     "output_type": "execute_result"
    }
   ],
   "source": [
    "np.max(ar4,axis=1)"
   ]
  },
  {
   "cell_type": "code",
   "execution_count": null,
   "id": "005dab01-0e87-4920-99f0-536e296df227",
   "metadata": {},
   "outputs": [],
   "source": []
  }
 ],
 "metadata": {
  "kernelspec": {
   "display_name": "Python 3 (ipykernel)",
   "language": "python",
   "name": "python3"
  },
  "language_info": {
   "codemirror_mode": {
    "name": "ipython",
    "version": 3
   },
   "file_extension": ".py",
   "mimetype": "text/x-python",
   "name": "python",
   "nbconvert_exporter": "python",
   "pygments_lexer": "ipython3",
   "version": "3.12.4"
  }
 },
 "nbformat": 4,
 "nbformat_minor": 5
}
