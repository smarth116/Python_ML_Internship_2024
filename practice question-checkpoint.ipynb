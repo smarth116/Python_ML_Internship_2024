{
 "cells": [
  {
   "cell_type": "code",
   "execution_count": 105,
   "id": "35976093-71b6-41b1-97f6-b0d37a89b154",
   "metadata": {},
   "outputs": [],
   "source": [
    "import numpy as np"
   ]
  },
  {
   "cell_type": "code",
   "execution_count": 106,
   "id": "cab8cf3d-4c96-422c-88a1-9a6609cef754",
   "metadata": {},
   "outputs": [],
   "source": [
    "ar2=np.array([[85,90,78],[92,88,95],[76,95,85],[90,85,92],[88,76,89]])"
   ]
  },
  {
   "cell_type": "code",
   "execution_count": 107,
   "id": "884d4ec1-d5a5-49a6-a752-0d4eaab937d1",
   "metadata": {},
   "outputs": [
    {
     "data": {
      "text/plain": [
       "array([[85, 90, 78],\n",
       "       [92, 88, 95],\n",
       "       [76, 95, 85],\n",
       "       [90, 85, 92],\n",
       "       [88, 76, 89]])"
      ]
     },
     "execution_count": 107,
     "metadata": {},
     "output_type": "execute_result"
    }
   ],
   "source": [
    "ar2"
   ]
  },
  {
   "cell_type": "code",
   "execution_count": 108,
   "id": "1299ffbf-a25d-4748-9e93-6fca32c8f314",
   "metadata": {},
   "outputs": [
    {
     "data": {
      "text/plain": [
       "array([84.33333333, 91.66666667, 85.33333333, 89.        , 84.33333333])"
      ]
     },
     "execution_count": 108,
     "metadata": {},
     "output_type": "execute_result"
    }
   ],
   "source": [
    "np.mean (ar2,axis=1)#To find the means score of each subject."
   ]
  },
  {
   "cell_type": "code",
   "execution_count": 109,
   "id": "47ec16b8-73b9-451d-b67e-59d6ab16864e",
   "metadata": {},
   "outputs": [
    {
     "data": {
      "text/plain": [
       "array([85., 92., 85., 90., 88.])"
      ]
     },
     "execution_count": 109,
     "metadata": {},
     "output_type": "execute_result"
    }
   ],
   "source": [
    "np.median (ar2,axis=1)#To find median score of each subject."
   ]
  },
  {
   "cell_type": "code",
   "execution_count": 110,
   "id": "879faf03-426e-451e-97cb-ce1789fece45",
   "metadata": {},
   "outputs": [
    {
     "name": "stdout",
     "output_type": "stream",
     "text": [
      "[253 275 256 267 253]\n",
      "scores of the student with the highest total score: [92 88 95]\n"
     ]
    }
   ],
   "source": [
    "ar2=np.array([[85,90,78],[92,88,95],[76,95,85],[90,85,92],[88,76,89]])\n",
    "\n",
    "sum = np.sum(ar2,axis=1)#TO FIND A SUM OF THE SCORE OF THE STUDENTS\n",
    "print(sum)#PRINT SUM\n",
    "highest_index= np.argmax(sum)#TO FIND MAX SUM\n",
    "highest_scores = ar2[highest_index]#TO FIND WHICH INDEX HAVING HIGH SCORE\n",
    "print(\"scores of the student with the highest total score:\",highest_scores)\n"
   ]
  },
  {
   "cell_type": "code",
   "execution_count": 111,
   "id": "3f1dd2e0-300c-4267-b8fa-d7339bf45985",
   "metadata": {},
   "outputs": [
    {
     "name": "stdout",
     "output_type": "stream",
     "text": [
      "Maximum scores in each subject: [92 95 95]\n",
      "Minimum scores in each subject: [76 76 78]\n"
     ]
    }
   ],
   "source": [
    "max_scores = np.max(ar2,axis=0)#To find the maxium \n",
    "min_scores = np.min(ar2,axis=0)#to find the minimum\n",
    "\n",
    "print(\"Maximum scores in each subject:\", max_scores)\n",
    "print(\"Minimum scores in each subject:\", min_scores)"
   ]
  },
  {
   "cell_type": "code",
   "execution_count": 112,
   "id": "048ec74f-f1fe-44f5-add0-0fe52f8c240d",
   "metadata": {},
   "outputs": [],
   "source": [
    "ar5=np.sort(ar2,axis=1)#To sort the scores in ascending order"
   ]
  },
  {
   "cell_type": "code",
   "execution_count": 113,
   "id": "87a7f208-5bbf-4600-86f2-1264526c2d42",
   "metadata": {},
   "outputs": [
    {
     "data": {
      "text/plain": [
       "array([[78, 85, 90],\n",
       "       [88, 92, 95],\n",
       "       [76, 85, 95],\n",
       "       [85, 90, 92],\n",
       "       [76, 88, 89]])"
      ]
     },
     "execution_count": 113,
     "metadata": {},
     "output_type": "execute_result"
    }
   ],
   "source": [
    "ar5"
   ]
  },
  {
   "cell_type": "code",
   "execution_count": 114,
   "id": "7ab71247-671f-4035-9f40-f095651e69b9",
   "metadata": {},
   "outputs": [
    {
     "name": "stdout",
     "output_type": "stream",
     "text": [
      "[[85 92 76 90 88]\n",
      " [90 88 95 85 76]\n",
      " [78 95 85 92 89]]\n"
     ]
    }
   ],
   "source": [
    "ar2=np.array([[85,90,78],[92,88,95],[76,95,85],[90,85,92],[88,76,89]])\n",
    "transposed_arr = ar2.T\n",
    "\n",
    "print(transposed_arr)\n"
   ]
  },
  {
   "cell_type": "code",
   "execution_count": null,
   "id": "36e75fc2-4585-44a9-957d-da52e9b8a1e4",
   "metadata": {},
   "outputs": [],
   "source": []
  },
  {
   "cell_type": "code",
   "execution_count": null,
   "id": "7b0a9cb8-867a-4091-9ee6-22101f17f3b4",
   "metadata": {},
   "outputs": [],
   "source": []
  },
  {
   "cell_type": "code",
   "execution_count": null,
   "id": "0ec46531-9525-4de5-b57d-d2d5768886b9",
   "metadata": {},
   "outputs": [],
   "source": []
  },
  {
   "cell_type": "code",
   "execution_count": null,
   "id": "1e743c10-7098-4849-b191-e4adbfaf79df",
   "metadata": {},
   "outputs": [],
   "source": []
  },
  {
   "cell_type": "code",
   "execution_count": null,
   "id": "38737aed-27b5-4daf-990d-9ff141a9ecf0",
   "metadata": {},
   "outputs": [],
   "source": []
  },
  {
   "cell_type": "code",
   "execution_count": null,
   "id": "369699a3-d6f5-47e2-ab96-86d3afd35d58",
   "metadata": {},
   "outputs": [],
   "source": []
  },
  {
   "cell_type": "code",
   "execution_count": null,
   "id": "aa0ebe3f-77ed-4c18-9e46-795f03a65930",
   "metadata": {},
   "outputs": [],
   "source": []
  },
  {
   "cell_type": "code",
   "execution_count": null,
   "id": "e43a810f-eda3-4a06-935e-8e8bf025c3df",
   "metadata": {},
   "outputs": [],
   "source": []
  },
  {
   "cell_type": "code",
   "execution_count": null,
   "id": "0abe395f-4d95-40f4-b69f-be065fb1c458",
   "metadata": {},
   "outputs": [],
   "source": []
  },
  {
   "cell_type": "code",
   "execution_count": null,
   "id": "1bd39e5a-0217-4221-9bbc-c8971cbb38a9",
   "metadata": {},
   "outputs": [],
   "source": []
  },
  {
   "cell_type": "code",
   "execution_count": null,
   "id": "2bfaecfd-dfbd-45ee-9445-ca6d4e4d4fe8",
   "metadata": {},
   "outputs": [],
   "source": []
  },
  {
   "cell_type": "code",
   "execution_count": null,
   "id": "1c972de1-9a2a-496c-b2b1-cf2296df344e",
   "metadata": {},
   "outputs": [],
   "source": []
  },
  {
   "cell_type": "code",
   "execution_count": null,
   "id": "c8c7ff0e-96ce-4a24-9b4a-906ab40c4d05",
   "metadata": {},
   "outputs": [],
   "source": []
  },
  {
   "cell_type": "code",
   "execution_count": null,
   "id": "d0ea8e9a-0046-4adf-bb5e-b259d94d0168",
   "metadata": {},
   "outputs": [],
   "source": []
  },
  {
   "cell_type": "code",
   "execution_count": null,
   "id": "4ce6d9d5-76ee-462f-8122-9c3c4e558542",
   "metadata": {},
   "outputs": [],
   "source": []
  },
  {
   "cell_type": "code",
   "execution_count": null,
   "id": "c9315542-b5a7-45d7-9aa2-7c14e67d30d2",
   "metadata": {},
   "outputs": [],
   "source": []
  },
  {
   "cell_type": "code",
   "execution_count": null,
   "id": "20e67c5d-0665-45f5-a087-0e3847bae770",
   "metadata": {},
   "outputs": [],
   "source": []
  },
  {
   "cell_type": "code",
   "execution_count": null,
   "id": "9691c174-a0f3-4324-924c-04963c346114",
   "metadata": {},
   "outputs": [],
   "source": []
  },
  {
   "cell_type": "code",
   "execution_count": null,
   "id": "fe8e2958-d5ae-47a1-8c58-03c0698974ef",
   "metadata": {},
   "outputs": [],
   "source": []
  },
  {
   "cell_type": "code",
   "execution_count": null,
   "id": "652587ef-dc71-4c4b-ab2a-05a31072ef1d",
   "metadata": {},
   "outputs": [],
   "source": []
  },
  {
   "cell_type": "code",
   "execution_count": null,
   "id": "018707af-d281-4575-8497-f6c2f1a4cf75",
   "metadata": {},
   "outputs": [],
   "source": []
  },
  {
   "cell_type": "code",
   "execution_count": null,
   "id": "2b1baa71-a2e5-4b1a-91f8-3721ccb3846d",
   "metadata": {},
   "outputs": [],
   "source": []
  }
 ],
 "metadata": {
  "kernelspec": {
   "display_name": "Python 3 (ipykernel)",
   "language": "python",
   "name": "python3"
  },
  "language_info": {
   "codemirror_mode": {
    "name": "ipython",
    "version": 3
   },
   "file_extension": ".py",
   "mimetype": "text/x-python",
   "name": "python",
   "nbconvert_exporter": "python",
   "pygments_lexer": "ipython3",
   "version": "3.12.4"
  }
 },
 "nbformat": 4,
 "nbformat_minor": 5
}
