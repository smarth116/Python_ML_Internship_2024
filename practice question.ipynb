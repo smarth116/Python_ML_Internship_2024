{
 "cells": [
  {
   "cell_type": "code",
   "execution_count": 105,
   "id": "35976093-71b6-41b1-97f6-b0d37a89b154",
   "metadata": {},
   "outputs": [],
   "source": [
    "import numpy as np"
   ]
  },
  {
   "cell_type": "code",
   "execution_count": 106,
   "id": "cab8cf3d-4c96-422c-88a1-9a6609cef754",
   "metadata": {},
   "outputs": [],
   "source": [
    "ar2=np.array([[85,90,78],[92,88,95],[76,95,85],[90,85,92],[88,76,89]])"
   ]
  },
  {
   "cell_type": "code",
   "execution_count": 107,
   "id": "884d4ec1-d5a5-49a6-a752-0d4eaab937d1",
   "metadata": {},
   "outputs": [
    {
     "data": {
      "text/plain": [
       "array([[85, 90, 78],\n",
       "       [92, 88, 95],\n",
       "       [76, 95, 85],\n",
       "       [90, 85, 92],\n",
       "       [88, 76, 89]])"
      ]
     },
     "execution_count": 107,
     "metadata": {},
     "output_type": "execute_result"
    }
   ],
   "source": [
    "ar2"
   ]
  },
  {
   "cell_type": "code",
   "execution_count": 108,
   "id": "1299ffbf-a25d-4748-9e93-6fca32c8f314",
   "metadata": {},
   "outputs": [
    {
     "data": {
      "text/plain": [
       "array([84.33333333, 91.66666667, 85.33333333, 89.        , 84.33333333])"
      ]
     },
     "execution_count": 108,
     "metadata": {},
     "output_type": "execute_result"
    }
   ],
   "source": [
    "np.mean (ar2,axis=1)#To find the means score of each subject."
   ]
  },
  {
   "cell_type": "code",
   "execution_count": 109,
   "id": "47ec16b8-73b9-451d-b67e-59d6ab16864e",
   "metadata": {},
   "outputs": [
    {
     "data": {
      "text/plain": [
       "array([85., 92., 85., 90., 88.])"
      ]
     },
     "execution_count": 109,
     "metadata": {},
     "output_type": "execute_result"
    }
   ],
   "source": [
    "np.median (ar2,axis=1)#To find median score of each subject."
   ]
  },
  {
   "cell_type": "code",
   "execution_count": 110,
   "id": "879faf03-426e-451e-97cb-ce1789fece45",
   "metadata": {},
   "outputs": [
    {
     "name": "stdout",
     "output_type": "stream",
     "text": [
      "[253 275 256 267 253]\n",
      "scores of the student with the highest total score: [92 88 95]\n"
     ]
    }
   ],
   "source": [
    "ar2=np.array([[85,90,78],[92,88,95],[76,95,85],[90,85,92],[88,76,89]])\n",
    "\n",
    "sum = np.sum(ar2,axis=1)#TO FIND A SUM OF THE SCORE OF THE STUDENTS\n",
    "print(sum)#PRINT SUM\n",
    "highest_index= np.argmax(sum)#TO FIND MAX SUM\n",
    "highest_scores = ar2[highest_index]#TO FIND WHICH INDEX HAVING HIGH SCORE\n",
    "print(\"scores of the student with the highest total score:\",highest_scores)\n"
   ]
  },
  {
   "cell_type": "code",
   "execution_count": 111,
   "id": "3f1dd2e0-300c-4267-b8fa-d7339bf45985",
   "metadata": {},
   "outputs": [
    {
     "name": "stdout",
     "output_type": "stream",
     "text": [
      "Maximum scores in each subject: [92 95 95]\n",
      "Minimum scores in each subject: [76 76 78]\n"
     ]
    }
   ],
   "source": [
    "max_scores = np.max(ar2,axis=0)#To find the maxium \n",
    "min_scores = np.min(ar2,axis=0)#to find the minimum\n",
    "\n",
    "print(\"Maximum scores in each subject:\", max_scores)\n",
    "print(\"Minimum scores in each subject:\", min_scores)"
   ]
  },
  {
   "cell_type": "code",
   "execution_count": 112,
   "id": "048ec74f-f1fe-44f5-add0-0fe52f8c240d",
   "metadata": {},
   "outputs": [],
   "source": [
    "ar5=np.sort(ar2,axis=1)#To sort the scores in ascending order"
   ]
  },
  {
   "cell_type": "code",
   "execution_count": 113,
   "id": "87a7f208-5bbf-4600-86f2-1264526c2d42",
   "metadata": {},
   "outputs": [
    {
     "data": {
      "text/plain": [
       "array([[78, 85, 90],\n",
       "       [88, 92, 95],\n",
       "       [76, 85, 95],\n",
       "       [85, 90, 92],\n",
       "       [76, 88, 89]])"
      ]
     },
     "execution_count": 113,
     "metadata": {},
     "output_type": "execute_result"
    }
   ],
   "source": [
    "ar5"
   ]
  },
  {
   "cell_type": "code",
   "execution_count": 114,
   "id": "7ab71247-671f-4035-9f40-f095651e69b9",
   "metadata": {},
   "outputs": [
    {
     "name": "stdout",
     "output_type": "stream",
     "text": [
      "[[85 92 76 90 88]\n",
      " [90 88 95 85 76]\n",
      " [78 95 85 92 89]]\n"
     ]
    }
   ],
   "source": [
    "ar2=np.array([[85,90,78],[92,88,95],[76,95,85],[90,85,92],[88,76,89]])\n",
    "transposed_arr = ar2.T\n",
    "\n",
    "print(transposed_arr)\n"
   ]
  },
  {
   "cell_type": "code",
   "execution_count": 2,
   "id": "36e75fc2-4585-44a9-957d-da52e9b8a1e4",
   "metadata": {},
   "outputs": [
    {
     "name": "stdin",
     "output_type": "stream",
     "text": [
      " 8\n"
     ]
    },
    {
     "name": "stdout",
     "output_type": "stream",
     "text": [
      "              * \n",
      "            * * \n",
      "          * * * \n",
      "        * * * * \n",
      "      * * * * * \n",
      "    * * * * * * \n",
      "  * * * * * * * \n",
      "* * * * * * * * \n"
     ]
    }
   ],
   "source": [
    "n=int(input())\n",
    "for i in range(n):\n",
    "    for s in range(n-1,i,-1):\n",
    "        print(\" \",end=\" \" )\n",
    "    for j in range(i+1):\n",
    "        print(\"*\",end=\" \")\n",
    "    print()\n",
    "        \n",
    "        "
   ]
  },
  {
   "cell_type": "code",
   "execution_count": null,
   "id": "7b0a9cb8-867a-4091-9ee6-22101f17f3b4",
   "metadata": {},
   "outputs": [],
   "source": [
    "stock={}\n",
    "import pandas as pd\n",
    "class equipment:\n",
    "    def __int__():\n",
    "        self.Eid=0\n",
    "        self.Ename=''\n",
    "        self.Ebrand=''\n",
    "        self.ETquantity=0\n",
    "        self.EAquantity=0\n",
    "\n",
    "    def Add_item(self):\n",
    "        self.Eid=int(input('enter the equipment id: '))\n",
    "        self.Enameinput('enter the equipment name: ')\n",
    "        self.Ebrandinput('enter the equipment brand: ')\n",
    "        self.ETquantity=int(input('enter the equipment total quantity: '))\n",
    "        self.EAquantity=int(input('enter the equipment available quaantity: '))\n",
    "        stock[self.Eid]= ([self.Eid,self.Ename,self.Ebrand,self.ETquantity,self.EAquantity])\n",
    "    def Remove_item(self):\n",
    "        self.Eid=int(input('enter the equipments id: '))\n",
    "        print(stock[self.Eid])\n",
    "        stock.pop(self.Eid)\n",
    "\n",
    "    def Update_item(self):\n",
    "       self.Eid=int(input('enter the equipment id: '))\n",
    "       print(\"Enter input valueis negative if want to decrease the items\")\n",
    "       self.ETquantity=int(input('enter the equipment total quantity to be update '))\n",
    "       Qty=stock[self.Eid][2]+self.ETquantity\n",
    "    def print_stock(self):\n",
    "        df=pd.Dataframe(stock)\n",
    "        print(df)\n",
    "def Stock_Mangement():\n",
    " choice=0\n",
    " temp=equipment()\n",
    "    while(choice!=5):\n",
    "        \n",
    "\n",
    "        \n",
    "        \n",
    "        \n",
    "    "
   ]
  },
  {
   "cell_type": "code",
   "execution_count": 3,
   "id": "0ec46531-9525-4de5-b57d-d2d5768886b9",
   "metadata": {},
   "outputs": [
    {
     "ename": "SyntaxError",
     "evalue": "invalid syntax (1563486764.py, line 8)",
     "output_type": "error",
     "traceback": [
      "\u001b[1;36m  Cell \u001b[1;32mIn[3], line 8\u001b[1;36m\u001b[0m\n\u001b[1;33m    self.condition=\u001b[0m\n\u001b[1;37m                   ^\u001b[0m\n\u001b[1;31mSyntaxError\u001b[0m\u001b[1;31m:\u001b[0m invalid syntax\n"
     ]
    }
   ],
   "source": [
    "class Record:\n",
    "    def __int__(self):\n",
    "        self.name=\"\"\n",
    "        self.ID=0\n",
    "        self.Eid=0\n",
    "        self.Ename=\"\"\n",
    "        self.status=\"\"\n",
    "        self.condition=\"\"\n",
    "    def rent_Equip(self):\n",
    "         self.name=input (\"Enter your name: \")\n",
    "        self.ID=input (\"Enter your ID: \")\n",
    "        self.Eid=input (\"Enter  equipment ID of item you are renting: \")\n",
    "        self.Ename=input stock[self.Eid][0]\n",
    "        self.status=\"Rented\"\n",
    "        self.condition=\"Good\"\n",
    "if  Stock[self.Eid][3]=0:\n",
    "    priint(\"Item not Available\")\n",
    "else:\n",
    "        stock[self.Eid][3]=Stock[self.Eid][3]-1\n",
    "        Records[self.ID]=list([ self.name,self.Eid,self.Ename,self.status,self.condition])\n",
    "    def return_Equip(self):\n",
    "        self.ID=int(input(\"Enter your ID: \"))\n",
    "        print(\"Member Id = \",self.ID)\n",
    "        print(\"Member Name = \",Records[self.Eid][0])\n",
    "        print(\"Equipment ID: = \",Records[self.Eid][1])\n",
    "        print(\"Equipment Name:= \",Records[self.Eid][2])\n",
    "        print(\"Status: \",Records[self.Eid][3])\n",
    "        print(\"Condiion: \",Records[self.Eid][4])\n",
    "\n",
    "\n",
    "\n",
    "\n",
    "\n",
    "\n",
    "        \n",
    "        "
   ]
  },
  {
   "cell_type": "code",
   "execution_count": null,
   "id": "9ce5b59d-a3a9-4313-9881-62d0070b3b59",
   "metadata": {},
   "outputs": [],
   "source": [
    "if__name__==\"__main__\":\n",
    " choice=0\n",
    " rec=Record()\n",
    "while(choice !=5):\n",
    "    print(\"______MENU______\")\n",
    "    print(\"1.Stock Management \")\n",
    "    print(\"1.Rent Item \")\n",
    "    print(\"1.Return Item\")\n",
    "    print(\"4.print Records \")\n",
    "    print(\"5.Exit \")\n",
    "    print(\"1.Stock Management \")\n",
    "    "
   ]
  }
 ],
 "metadata": {
  "kernelspec": {
   "display_name": "Python 3 (ipykernel)",
   "language": "python",
   "name": "python3"
  },
  "language_info": {
   "codemirror_mode": {
    "name": "ipython",
    "version": 3
   },
   "file_extension": ".py",
   "mimetype": "text/x-python",
   "name": "python",
   "nbconvert_exporter": "python",
   "pygments_lexer": "ipython3",
   "version": "3.12.4"
  }
 },
 "nbformat": 4,
 "nbformat_minor": 5
}
