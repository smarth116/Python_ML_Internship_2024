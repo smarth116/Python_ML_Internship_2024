{
 "cells": [
  {
   "cell_type": "code",
   "execution_count": 1,
   "id": "18b7a7f5-dbc1-40ee-ab97-15d211c80725",
   "metadata": {},
   "outputs": [
    {
     "name": "stdout",
     "output_type": "stream",
     "text": [
      "The sum of 5 and 3 is 8\n"
     ]
    }
   ],
   "source": [
    "class Adder:\n",
    "    def __init__(self, a, b):\n",
    "        self.a = a\n",
    "        self.b = b\n",
    "    \n",
    "    def add(self):\n",
    "        return self.a + self.b\n",
    "\n",
    "# Example usage\n",
    "num1 = 5\n",
    "num2 = 3\n",
    "adder = Adder(num1, num2)\n",
    "result = adder.add()\n",
    "print(f\"The sum of {num1} and {num2} is {result}\")"
   ]
  },
  {
   "cell_type": "code",
   "execution_count": null,
   "id": "918b807f-f1fe-4488-b95e-c4b6ca3d62f8",
   "metadata": {},
   "outputs": [],
   "source": [
    "#if else\n",
    "n= int(input())\n",
    "\n",
    "if n<0:\n",
    "    if n>(-24):\n",
    "        if n%2 == 0:\n",
    "            print(\"good\")\n",
    "            print(\"not sucessful\")\n",
    "            print(\"not valid\")\n",
    "        else:\n",
    "            print(\"bad\")"
   ]
  },
  {
   "cell_type": "code",
   "execution_count": null,
   "id": "84daf49c-5a87-4262-847c-77b931bfcff0",
   "metadata": {},
   "outputs": [],
   "source": [
    "#while\n",
    "\n",
    "while(condition):\n",
    "    pass\n",
    "\n",
    "#for \n",
    "for i in range(initial,final):\n",
    "    pass\n",
    "#for each\n",
    "L=[12,2,3,4,5]\n",
    "for i in L:\n",
    "    pass\n"
   ]
  },
  {
   "cell_type": "code",
   "execution_count": null,
   "id": "a9889035-e371-42d1-8718-10d8aae033e3",
   "metadata": {},
   "outputs": [],
   "source": [
    "#list \n",
    "l1=[1,21,3,4,5]\n",
    "l2=[2.3,5.4,6.7,5.4,9.8]\n",
    "l3=[1,2,3,5.4,'ab','a',\"TRUE\"]\n",
    "print (l1)\n",
    "print(l2)\n",
    "print(l3)\n",
    "print(type(l1))\n",
    "print(type(l2))\n",
    "print(type(l3))\n"
   ]
  },
  {
   "cell_type": "code",
   "execution_count": null,
   "id": "3b326c48-f928-4955-905d-3f38743283d6",
   "metadata": {},
   "outputs": [],
   "source": [
    "l1=[1,2,3,4]\n",
    "l2=[5,6,7,8]\n",
    "print(l1+l2)\n",
    "l2.extend(l1)\n",
    "print(l2)"
   ]
  },
  {
   "cell_type": "code",
   "execution_count": null,
   "id": "527510ce-3d74-44ee-a355-d363265a3402",
   "metadata": {},
   "outputs": [],
   "source": [
    "#dictionary\n",
    "#d=[key::value]\n",
    "d={1:\"ABCD\",\"XYZ\":123,2:[1,2,3,4]}\n",
    "print(d.values())\n",
    "print(d.keys())\n",
    "print(d[2])\n",
    "print(d[\"XYZ\"])\n",
    "\n"
   ]
  },
  {
   "cell_type": "code",
   "execution_count": null,
   "id": "8d52fbd9-16e5-466c-aac2-cc3e8571fa6f",
   "metadata": {},
   "outputs": [],
   "source": [
    "#calculator\n",
    "#wap to perform basic mathematical qperation.\n",
    "str = (input(\"Enter your expression:\"))\n",
    "op=\"\"\n",
    "for i in str:\n",
    "    if i in \"+-*/\":\n",
    "        op=i\n",
    "str=str.replace(op,\" \") \n",
    "L=[]\n",
    "for i in str.split(\" \"):\n",
    "          L.append(float(i))\n",
    "if op=='+': \n",
    "              print (float(L[0])+float(L[1]))\n",
    "elif op=='-': \n",
    "              print (float(L[0])-float(L[1]))\n",
    "elif op=='*': \n",
    "              print (float(L[0])*float(L[1]))\n",
    "elif op=='/': \n",
    "              print (float(L[0])/float(L[1]))\n",
    "else:\n",
    "              print(\"invalid operator\")\n",
    "        \n",
    "        "
   ]
  },
  {
   "cell_type": "code",
   "execution_count": null,
   "id": "ced17f36-c23f-4ccb-8de0-9be182493d50",
   "metadata": {},
   "outputs": [],
   "source": [
    "#calculator\n",
    "#wap to perform basic mathematical qperation.\n",
    "str = input(\"Enter your expression:\")\n",
    "op=\"\"\n",
    "for i in str:\n",
    "    if i in \"+-*/\":\n",
    "        op=i\n",
    "        print(op)\n",
    "        "
   ]
  },
  {
   "cell_type": "code",
   "execution_count": null,
   "id": "ec271dbf-34a1-4f56-9a02-b64ffa0ca448",
   "metadata": {},
   "outputs": [],
   "source": [
    "#dictionary\n",
    "#d=[key::value]\n",
    "d={\"s1\":\"A\",\"s2\":\"B\",\"s3\":\"A\",\"s4\":\"B\",\"s5\":\"C\",\"s6\":\"B\",\"s7\":\"D\"}\n",
    "my_dict={}\n",
    "for i in d.values():\n",
    " if i in my_dict:\n",
    "        my_dict[i]+=1\n",
    " else:\n",
    "      my_dict[i]=1\n",
    "print(my_dict)\n",
    "\n",
    "\n"
   ]
  },
  {
   "cell_type": "code",
   "execution_count": null,
   "id": "380afd97-35fe-4b62-9efe-64968f9c4de1",
   "metadata": {},
   "outputs": [],
   "source": [
    "d = {\"s1\": \"A\", \"s2\": \"B\", \"s3\": \"A\", \"s4\": \"B\", \"s5\": \"C\", \"s6\": \"B\", \"s7\": \"D\"}\n",
    "\n",
    "count_dict = {}\n",
    "\n",
    "for value in d.values():\n",
    "    if value in count_dict:\n",
    "        count_dict[value] += 1\n",
    "    else:\n",
    "        count_dict[value] = 1\n",
    "\n",
    "print(count_dict)"
   ]
  },
  {
   "cell_type": "code",
   "execution_count": null,
   "id": "029a632c-2701-45f1-8f8a-1810e8f202f7",
   "metadata": {},
   "outputs": [],
   "source": [
    "def addnum(a,b):\n",
    " c=a+b\n",
    " return c\n",
    "result = addnum(2,5)\n",
    "print(result)"
   ]
  },
  {
   "cell_type": "code",
   "execution_count": null,
   "id": "b2568100-06eb-4bd9-ac5a-40169d268cea",
   "metadata": {},
   "outputs": [],
   "source": [
    "#wap to find whether number is prime or not?\n",
    "def is_prime(number):\n",
    "    if number > 1:\n",
    "        for i in range(2,number):\n",
    "            if number % i == 0:\n",
    "                return False\n",
    "        return True\n",
    "    return False\n",
    "    if __name__==\"__main__\":\n",
    "        num = int(input(\"enter number:\"))\n",
    "        is_prime(num)\n",
    "        if is_prime(num):\n",
    "            print(\"is a prime number\")\n",
    "        else:\n",
    "            print(\"is not a prime number\")\n",
    "        \n"
   ]
  },
  {
   "cell_type": "code",
   "execution_count": 1,
   "id": "95ad06bd-7835-4570-aae9-2229dca515ba",
   "metadata": {},
   "outputs": [
    {
     "name": "stdout",
     "output_type": "stream",
     "text": [
      "0\n",
      "2\n",
      "4\n",
      "6\n",
      "8\n",
      "10\n",
      "12\n",
      "14\n",
      "16\n",
      "18\n",
      "20\n",
      "22\n",
      "24\n",
      "26\n",
      "28\n",
      "30\n",
      "32\n",
      "34\n",
      "36\n",
      "38\n",
      "40\n",
      "42\n",
      "44\n",
      "46\n",
      "48\n",
      "50\n",
      "52\n",
      "54\n",
      "56\n",
      "58\n",
      "60\n",
      "62\n",
      "64\n",
      "66\n",
      "68\n",
      "70\n",
      "72\n",
      "74\n",
      "76\n",
      "78\n",
      "80\n",
      "82\n",
      "84\n",
      "86\n",
      "88\n",
      "90\n",
      "92\n",
      "94\n",
      "96\n",
      "98\n"
     ]
    }
   ],
   "source": [
    "l=[]\n",
    "for i in range(0,100,2):\n",
    "    l.append(i)\n",
    "    print(i)"
   ]
  },
  {
   "cell_type": "code",
   "execution_count": 2,
   "id": "3e3bd364-24ba-4a14-957f-16e005934a59",
   "metadata": {},
   "outputs": [
    {
     "name": "stdin",
     "output_type": "stream",
     "text": [
      " 1 2 3\n"
     ]
    },
    {
     "name": "stdout",
     "output_type": "stream",
     "text": [
      "['1', '2', '3']\n"
     ]
    }
   ],
   "source": [
    "l=list(map(str,input().split()))\n",
    "print(l)"
   ]
  },
  {
   "cell_type": "code",
   "execution_count": null,
   "id": "f00bae9e-8949-4ac9-be84-b3f92cae4072",
   "metadata": {},
   "outputs": [],
   "source": [
    "l=list(map(float,input().split()))\n",
    "print(l)"
   ]
  },
  {
   "cell_type": "code",
   "execution_count": null,
   "id": "217783f6-1909-4ae7-a0cc-0cd8ab0a10a7",
   "metadata": {},
   "outputs": [],
   "source": [
    "l=list(map(int,input().split()))\n",
    "print(l)"
   ]
  },
  {
   "cell_type": "code",
   "execution_count": 3,
   "id": "a68f3058-e10d-4073-a0ef-9e16ce08c35d",
   "metadata": {},
   "outputs": [
    {
     "name": "stdout",
     "output_type": "stream",
     "text": [
      "11\n",
      "22\n",
      "this is a fun1 from class A:\n",
      "this is a fun1 from class B:\n"
     ]
    }
   ],
   "source": [
    "class A:\n",
    "    def __init__(self):\n",
    "        self.a = 10\n",
    "        self.b = 20\n",
    "\n",
    "    def fun1(self):\n",
    "        print(\"this is a fun1 from class A:\")\n",
    "\n",
    "class B(A):\n",
    "    def __init__(self):\n",
    "        super().__init__()  # Call the constructor of class A\n",
    "        self.a = 11\n",
    "        self.b = 22\n",
    "\n",
    "    def fun1(self):\n",
    "        super().fun1()  # Call the fun1 method of class A\n",
    "        print(\"this is a fun1 from class B:\")\n",
    "\n",
    "if __name__ == \"__main__\":\n",
    "    obj = B()\n",
    "    print(obj.a)\n",
    "    print(obj.b)\n",
    "    obj.fun1()\n"
   ]
  },
  {
   "cell_type": "code",
   "execution_count": 2,
   "id": "bc46899d-cb18-4197-8b33-8a18f40f3e53",
   "metadata": {},
   "outputs": [
    {
     "name": "stdin",
     "output_type": "stream",
     "text": [
      "Enter the first number:  a\n"
     ]
    },
    {
     "ename": "NameError",
     "evalue": "name 'Print' is not defined",
     "output_type": "error",
     "traceback": [
      "\u001b[1;31m---------------------------------------------------------------------------\u001b[0m",
      "\u001b[1;31mValueError\u001b[0m                                Traceback (most recent call last)",
      "Cell \u001b[1;32mIn[2], line 4\u001b[0m, in \u001b[0;36mperform_division\u001b[1;34m()\u001b[0m\n\u001b[0;32m      3\u001b[0m \u001b[38;5;28;01mtry\u001b[39;00m:\n\u001b[1;32m----> 4\u001b[0m     num1 \u001b[38;5;241m=\u001b[39m \u001b[38;5;28;43mfloat\u001b[39;49m\u001b[43m(\u001b[49m\u001b[38;5;28;43minput\u001b[39;49m\u001b[43m(\u001b[49m\u001b[38;5;124;43m\"\u001b[39;49m\u001b[38;5;124;43mEnter the first number: \u001b[39;49m\u001b[38;5;124;43m\"\u001b[39;49m\u001b[43m)\u001b[49m\u001b[43m)\u001b[49m\n\u001b[0;32m      5\u001b[0m     num2 \u001b[38;5;241m=\u001b[39m \u001b[38;5;28mfloat\u001b[39m(\u001b[38;5;28minput\u001b[39m(\u001b[38;5;124m\"\u001b[39m\u001b[38;5;124mEnter the second number: \u001b[39m\u001b[38;5;124m\"\u001b[39m))\n",
      "\u001b[1;31mValueError\u001b[0m: could not convert string to float: 'a'",
      "\nDuring handling of the above exception, another exception occurred:\n",
      "\u001b[1;31mNameError\u001b[0m                                 Traceback (most recent call last)",
      "Cell \u001b[1;32mIn[2], line 15\u001b[0m\n\u001b[0;32m     12\u001b[0m                 Print(\u001b[38;5;124m\"\u001b[39m\u001b[38;5;124mError: Invalid Input\u001b[39m\u001b[38;5;124m\"\u001b[39m)\n\u001b[0;32m     14\u001b[0m \u001b[38;5;28;01mif\u001b[39;00m \u001b[38;5;18m__name__\u001b[39m\u001b[38;5;241m==\u001b[39m\u001b[38;5;124m\"\u001b[39m\u001b[38;5;124m__main__\u001b[39m\u001b[38;5;124m\"\u001b[39m:\n\u001b[1;32m---> 15\u001b[0m     \u001b[43mperform_division\u001b[49m\u001b[43m(\u001b[49m\u001b[43m)\u001b[49m\n",
      "Cell \u001b[1;32mIn[2], line 12\u001b[0m, in \u001b[0;36mperform_division\u001b[1;34m()\u001b[0m\n\u001b[0;32m     10\u001b[0m     \u001b[38;5;28mprint\u001b[39m(\u001b[38;5;124m\"\u001b[39m\u001b[38;5;124mError: Division by zero is not allowed. Please try again.\u001b[39m\u001b[38;5;124m\"\u001b[39m)\n\u001b[0;32m     11\u001b[0m \u001b[38;5;28;01mexcept\u001b[39;00m \u001b[38;5;167;01mValueError\u001b[39;00m:\n\u001b[1;32m---> 12\u001b[0m         \u001b[43mPrint\u001b[49m(\u001b[38;5;124m\"\u001b[39m\u001b[38;5;124mError: Invalid Input\u001b[39m\u001b[38;5;124m\"\u001b[39m)\n",
      "\u001b[1;31mNameError\u001b[0m: name 'Print' is not defined"
     ]
    }
   ],
   "source": [
    "def perform_division():\n",
    "    while True:\n",
    "        try:\n",
    "            num1 = float(input(\"Enter the first number: \"))\n",
    "            num2 = float(input(\"Enter the second number: \"))\n",
    "            result = num1/num2\n",
    "            print(f\"The result of (num1) divided by (num2) is {result:2f}\")\n",
    "            break\n",
    "        except ZeroDivisionError:\n",
    "            print(\"Error: Division by zero is not allowed. Please try again.\")\n",
    "        except ValueError:\n",
    "                Print(\"Error: Invalid Input\")\n",
    "               \n",
    "if __name__==\"__main__\":\n",
    "    perform_division()"
   ]
  },
  {
   "cell_type": "code",
   "execution_count": null,
   "id": "b606eb73-78c6-4fb1-9616-b8a855448ab3",
   "metadata": {},
   "outputs": [],
   "source": []
  }
 ],
 "metadata": {
  "kernelspec": {
   "display_name": "Python 3 (ipykernel)",
   "language": "python",
   "name": "python3"
  },
  "language_info": {
   "codemirror_mode": {
    "name": "ipython",
    "version": 3
   },
   "file_extension": ".py",
   "mimetype": "text/x-python",
   "name": "python",
   "nbconvert_exporter": "python",
   "pygments_lexer": "ipython3",
   "version": "3.12.4"
  }
 },
 "nbformat": 4,
 "nbformat_minor": 5
}
